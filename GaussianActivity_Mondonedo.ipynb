{
 "cells": [
  {
   "cell_type": "code",
   "execution_count": 1,
   "id": "27b61c8c-d4e4-4942-93f7-b19268f67cda",
   "metadata": {},
   "outputs": [],
   "source": [
    "import numpy as np"
   ]
  },
  {
   "cell_type": "markdown",
   "id": "df040044-9f63-466d-87bc-d4201d7aee17",
   "metadata": {},
   "source": [
    "### 1."
   ]
  },
  {
   "cell_type": "code",
   "execution_count": 3,
   "id": "04ef08be-1756-41bc-9d6d-07a2307b55ce",
   "metadata": {},
   "outputs": [
    {
     "name": "stdout",
     "output_type": "stream",
     "text": [
      "Upper Triangular Matrix A:\n",
      "[[ 4.    1.   -1.  ]\n",
      " [ 0.   -0.25  3.25]\n",
      " [ 0.    0.   -4.  ]]\n",
      "Modified b: [2.  1.5 0. ]\n",
      "Solution x: [ 2. -6. -0.]\n"
     ]
    }
   ],
   "source": [
    "#Use Naive Gauss Elimination to solve\n",
    "\n",
    "A = np.array([[4,1,-1],[5,1,2],[6,1,1]],dtype=float)\n",
    "b= np.array([2,4,6],dtype=float)\n",
    "\n",
    "#Forward Elimination\n",
    "#Transform the matrix A into an upper triangular matrix.\n",
    "\n",
    "n = len(b)\n",
    "for i in range(n):\n",
    "    #Make the diagonal element 1\n",
    "    for j in range(i + 1, n):\n",
    "        factor = A[j, i] / A[i, i]\n",
    "        A[j, i:] -= factor * A[i, i:]\n",
    "        b[j] -= factor * b[i]\n",
    "\n",
    "#Backward Substitution\n",
    "x = np.zeros(n)\n",
    "for i in range(n - 1, -1, -1):\n",
    "    x[i] = (b[i] - np.dot(A[i, i + 1:], x[i + 1:])) / A[i, i]\n",
    "\n",
    "print(f\"Upper Triangular Matrix A:\\n{A}\\nModified b: {b}\\nSolution x: {x}\")"
   ]
  },
  {
   "cell_type": "markdown",
   "id": "093fd437-4394-41b9-a1aa-2fd7c09c1b25",
   "metadata": {},
   "source": [
    "### 2."
   ]
  },
  {
   "cell_type": "code",
   "execution_count": 5,
   "id": "fa384750-6cc1-41f0-819f-f917ca80fa03",
   "metadata": {},
   "outputs": [
    {
     "name": "stdout",
     "output_type": "stream",
     "text": [
      "[A]:\n",
      "[[ 4.    1.   -1.  ]\n",
      " [ 0.   -0.25  3.25]\n",
      " [ 0.    0.   -4.  ]]\n",
      " b: [2.  1.5 0. ]\n",
      " x: [ 2. -6. -0.]\n"
     ]
    }
   ],
   "source": [
    "#Assume that you are using a computer with four significant digits with chopping.\n",
    "#Use Naïve Gauss elimination method to solve\n",
    "\n",
    "A = np.array([[4,1,-1],[5,1,2],[6,1,1]],dtype=float)\n",
    "b= np.array([2,4,6],dtype=float)\n",
    "\n",
    "def chop(value):\n",
    "    return np.floor(value * 1e4) / 1e4\n",
    "#Apply chopping\n",
    "A = np.vectorize(chop)(A)\n",
    "b = np.vectorize(chop)(b)\n",
    "\n",
    "#Naive Gauss Elimination with chopping\n",
    "n = len(b)\n",
    "for i in range(n):\n",
    "    for j in range(i + 1, n):\n",
    "        factor = chop(A[j, i] / A[i, i])\n",
    "        A[j, i:] = np.vectorize(chop)(A[j, i:] - factor * A[i, i:])\n",
    "        b[j] = chop(b[j] - factor * b[i])\n",
    "\n",
    "#Backward Substitution with chopping\n",
    "x = np.zeros(n)\n",
    "for i in range(n - 1, -1, -1):\n",
    "    x[i] = chop((b[i] - chop(np.dot(A[i, i + 1:], x[i + 1:]))) / A[i, i])\n",
    "\n",
    "print(f\"[A]:\\n{A}\\n b: {b}\\n x: {x}\")"
   ]
  },
  {
   "cell_type": "markdown",
   "id": "4f10c9aa-69f6-435b-827b-1cbb5660983f",
   "metadata": {},
   "source": [
    "### 3."
   ]
  },
  {
   "cell_type": "code",
   "execution_count": 7,
   "id": "86302ca3-2542-4bd5-90d7-cccbf8ab83dc",
   "metadata": {},
   "outputs": [
    {
     "name": "stdout",
     "output_type": "stream",
     "text": [
      "[A]:\n",
      " [[ 1.0000e+01 -7.0000e+00  0.0000e+00]\n",
      " [ 0.0000e+00 -1.0000e-03  6.0000e+00]\n",
      " [ 0.0000e+00  0.0000e+00  1.5005e+04]]\n",
      "Determinant of [A]: \n",
      "-150.04999999999998\n"
     ]
    }
   ],
   "source": [
    "#Find the determinant of [A] using forward elimination step of naïve Gauss elimination method.\n",
    "\n",
    "A = np.array([[10,-7,0],[-3,2.099,6],[5,-1,5]],dtype=float)\n",
    "\n",
    "n = len(A)\n",
    "det = 1  #Initialize determinant\n",
    "\n",
    "for i in range(n):\n",
    "    #Multiply by the diagonal element for determinant\n",
    "    det *= A[i, i]\n",
    "    for j in range(i + 1, n):\n",
    "        factor = A[j, i] / A[i, i]\n",
    "        A[j, i:] -= factor * A[i, i:]\n",
    "\n",
    "#Determinant is the product of the diagonal elements\n",
    "det = np.prod(np.diag(A))\n",
    "print(f\"[A]:\\n {A}\\nDeterminant of [A]: \\n{det}\")\n",
    "\n",
    "#det = np.linalg.det(A)\n",
    "#print(det)"
   ]
  },
  {
   "cell_type": "markdown",
   "id": "5b8a3edb-46fe-433a-895b-fae4cbd1cfef",
   "metadata": {},
   "source": [
    "### 4."
   ]
  },
  {
   "cell_type": "code",
   "execution_count": 9,
   "id": "83229687-8d50-466d-8043-8abe44692f71",
   "metadata": {},
   "outputs": [
    {
     "name": "stdout",
     "output_type": "stream",
     "text": [
      "The determinant of [A] is: -84.0\n"
     ]
    }
   ],
   "source": [
    "#At the end of forward elimination steps using naïve Gauss elimination method on the coefficient matrix\n",
    "#A = np.array([[25,c,1],[64,a,1],[144,b,1]])\n",
    "#[A] reduces to\n",
    "B = np.array([[25,5,1],[0,-4.8,-1.56],[0,0,0.7]])\n",
    "#What is the determinant of A?\n",
    "\n",
    "#Compute the determinant as the product of diagonal elements\n",
    "det_A = np.prod(np.diag(B))\n",
    "\n",
    "print(\"The determinant of [A] is:\", det_A)\n",
    "#The determinant of [A] after forward elimination using naïve Gauss Elimination = The product of the diagonal elements of the upper triangular matrix of [B]."
   ]
  },
  {
   "cell_type": "markdown",
   "id": "39f922db-2ae6-47cb-a7b4-40193e81f177",
   "metadata": {},
   "source": [
    "### 5."
   ]
  },
  {
   "cell_type": "code",
   "execution_count": 11,
   "id": "f337d474-ae8b-4892-a6b9-a64126621eb4",
   "metadata": {},
   "outputs": [
    {
     "name": "stdout",
     "output_type": "stream",
     "text": [
      "x:  [ 2. -6. -0.]\n"
     ]
    }
   ],
   "source": [
    "#Using Gaussian elimination with partial pivoting to solve\n",
    "A = np.array([[4, 1, -1], [5, 1, 2], [6, 1, 1]], dtype=float)\n",
    "b = np.array([2, 4, 6], dtype=float)\n",
    "\n",
    "# Function to perform the Gaussian Elimination with Partial Pivoting\n",
    "def parpiv(A, b):\n",
    "    n = len(b)\n",
    "    \n",
    "    # Forward elimination with partial pivoting\n",
    "    for i in range(n):\n",
    "    # Partial pivoting: \n",
    "        #find the maximum element in the current column\n",
    "        max_row = np.argmax(np.abs(A[i:, i])) + i\n",
    "        if i != max_row:\n",
    "            # Swap rows in A and b\n",
    "            A[[i, max_row]] = A[[max_row, i]]\n",
    "            b[[i, max_row]] = b[[max_row, i]]\n",
    "        \n",
    "        # Eliminate entries below the pivot\n",
    "        for j in range(i + 1, n):\n",
    "            factor = A[j, i] / A[i, i]\n",
    "            A[j, i:] -= factor * A[i, i:]\n",
    "            b[j] -= factor * b[i]\n",
    "    \n",
    "    # Backward substitution\n",
    "    x = np.zeros(n)\n",
    "    for i in range(n - 1, -1, -1):\n",
    "        x[i] = (b[i] - np.dot(A[i, i + 1:], x[i + 1:])) / A[i, i]\n",
    "    \n",
    "    return x\n",
    "\n",
    "print(\"x: \", x)"
   ]
  },
  {
   "cell_type": "markdown",
   "id": "2fd3b725-3e96-45a1-921a-e8097a858283",
   "metadata": {},
   "source": [
    "### 6."
   ]
  },
  {
   "cell_type": "code",
   "execution_count": 13,
   "id": "353a9761-de35-4f08-9efa-9684bc0f2903",
   "metadata": {},
   "outputs": [
    {
     "name": "stdout",
     "output_type": "stream",
     "text": [
      "x:  [ 1.9999e+00 -5.9995e+00 -4.0000e-04]\n"
     ]
    }
   ],
   "source": [
    "#Assume that you are using a computer with four significant digits with chopping, use Gaussian elimination with partial pivoting to solve\n",
    "A = np.array([[4, 1, -1], [5, 1, 2], [6, 1, 1]], dtype=float)\n",
    "b = np.array([2, 4, 6], dtype=float)\n",
    "\n",
    "def chop(value):\n",
    "    return np.floor(value * 1e4) / 1e4\n",
    "\n",
    "# Function to perform Gaussian elimination with partial pivoting and chopping\n",
    "def parpivcho(A, b):\n",
    "    n = len(b)\n",
    "    \n",
    "    # Chop initial values of A and b\n",
    "    A = np.vectorize(chop)(A)\n",
    "    b = np.vectorize(chop)(b)\n",
    "    \n",
    "    # Forward elimination with partial pivoting\n",
    "    for i in range(n):\n",
    "        # Partial pivoting: find the maximum element in the current column\n",
    "        max_row = np.argmax(np.abs(A[i:, i])) + i\n",
    "        if i != max_row:\n",
    "            # Swap rows in A and b\n",
    "            A[[i, max_row]] = A[[max_row, i]]\n",
    "            b[[i, max_row]] = b[[max_row, i]]\n",
    "        \n",
    "        # Eliminate entries below the pivot\n",
    "        for j in range(i + 1, n):\n",
    "            factor = chop(A[j, i] / A[i, i])\n",
    "            A[j, i:] = np.vectorize(chop)(A[j, i:] - factor * A[i, i:])\n",
    "            b[j] = chop(b[j] - factor * b[i])\n",
    "    \n",
    "    # Backward substitution\n",
    "    x = np.zeros(n)\n",
    "    for i in range(n - 1, -1, -1):\n",
    "        x[i] = chop((b[i] - chop(np.dot(A[i, i + 1:], x[i + 1:]))) / A[i, i])\n",
    "    \n",
    "    return x\n",
    "\n",
    "# Define the matrix A and vector b\n",
    "A = np.array([[4, 1, -1], [5, 1, 2], [6, 1, 1]], dtype=float)\n",
    "b = np.array([2, 4, 6], dtype=float)\n",
    "\n",
    "# Solve the system\n",
    "x_chopped = parpivcho(A, b)\n",
    "\n",
    "print(\"x: \", x_chopped)"
   ]
  }
 ],
 "metadata": {
  "kernelspec": {
   "display_name": "Python 3 (ipykernel)",
   "language": "python",
   "name": "python3"
  },
  "language_info": {
   "codemirror_mode": {
    "name": "ipython",
    "version": 3
   },
   "file_extension": ".py",
   "mimetype": "text/x-python",
   "name": "python",
   "nbconvert_exporter": "python",
   "pygments_lexer": "ipython3",
   "version": "3.12.7"
  }
 },
 "nbformat": 4,
 "nbformat_minor": 5
}
